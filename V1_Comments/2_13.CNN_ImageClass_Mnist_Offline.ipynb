{
 "cells": [
  {
   "cell_type": "code",
   "execution_count": 1,
   "metadata": {},
   "outputs": [],
   "source": [
    "import numpy as np\n",
    "import pandas as pd\n",
    "import matplotlib.pyplot as plt\n",
    "import tensorflow as tf\n",
    "from tensorflow.keras import models,layers  #tensorflow and tensorflow.keras for defining and training the CNN model, keras provides tools to build, train, and evaluate neural networks\n",
    "from tensorflow.keras.utils import to_categorical"
   ]
  },
  {
   "cell_type": "markdown",
   "metadata": {},
   "source": [
    "\n",
    "a. Loading and preprocessing the image data"
   ]
  },
  {
   "cell_type": "code",
   "execution_count": 2,
   "metadata": {},
   "outputs": [
    {
     "name": "stdout",
     "output_type": "stream",
     "text": [
      "(60000, 784)\n",
      "(60000,)\n"
     ]
    }
   ],
   "source": [
    "mnist_train=pd.read_csv('./mnist_train.csv')\n",
    "x_train=mnist_train.drop('label',axis=1).values\n",
    "y_train=mnist_train['label'].values\n",
    "\n",
    "print(x_train.shape)\n",
    "print(y_train.shape)\n"
   ]
  },
  {
   "cell_type": "code",
   "execution_count": 3,
   "metadata": {},
   "outputs": [
    {
     "name": "stdout",
     "output_type": "stream",
     "text": [
      "(10000, 784)\n",
      "(10000,)\n"
     ]
    }
   ],
   "source": [
    "mnist_test=pd.read_csv('./mnist_test.csv')\n",
    "x_test=mnist_test.drop('label',axis=1).values\n",
    "y_test=mnist_test['label'].values\n",
    "\n",
    "print(x_test.shape)\n",
    "print(y_test.shape)\n"
   ]
  },
  {
   "cell_type": "code",
   "execution_count": 4,
   "metadata": {},
   "outputs": [
    {
     "name": "stdout",
     "output_type": "stream",
     "text": [
      "(60000, 28, 28, 1)\n",
      "(10000, 28, 28, 1)\n"
     ]
    }
   ],
   "source": [
    "# Normalize pixel values to the range [0, 1]\n",
    "x_train = x_train / 255.0\n",
    "x_test = x_test / 255.0\n",
    "\n",
    "# Flatten the images to a 1D array (for MNIST)\n",
    "x_train = x_train.reshape((-1, 28, 28, 1))\n",
    "x_test = x_test.reshape((-1, 28, 28, 1))\n",
    "\n",
    "print(x_train.shape)\n",
    "print(x_test.shape)"
   ]
  },
  {
   "cell_type": "code",
   "execution_count": 5,
   "metadata": {},
   "outputs": [],
   "source": [
    "y_train=to_categorical(y_train)\n",
    "y_test=to_categorical(y_test)"
   ]
  },
  {
   "cell_type": "markdown",
   "metadata": {},
   "source": [
    "b. Defining the model's architecture"
   ]
  },
  {
   "cell_type": "code",
   "execution_count": 6,
   "metadata": {},
   "outputs": [
    {
     "name": "stderr",
     "output_type": "stream",
     "text": [
      "C:\\Users\\nahus\\AppData\\Roaming\\Python\\Python312\\site-packages\\keras\\src\\layers\\convolutional\\base_conv.py:107: UserWarning: Do not pass an `input_shape`/`input_dim` argument to a layer. When using Sequential models, prefer using an `Input(shape)` object as the first layer in the model instead.\n",
      "  super().__init__(activity_regularizer=activity_regularizer, **kwargs)\n"
     ]
    }
   ],
   "source": [
    "model=models.Sequential([\n",
    "    layers.Conv2D(32,(3,3),activation='relu',input_shape=(28,28,1)),\n",
    "    layers.MaxPooling2D((2,2)),\n",
    "    layers.Conv2D(64,(3,3),activation='relu'),\n",
    "    layers.MaxPooling2D((2,2)),\n",
    "    layers.Flatten(),\n",
    "    layers.Dense(64,activation='relu'),\n",
    "    layers.Dense(10,activation='softmax')\n",
    "])"
   ]
  },
  {
   "cell_type": "markdown",
   "metadata": {},
   "source": [
    "c. Training the model"
   ]
  },
  {
   "cell_type": "code",
   "execution_count": 7,
   "metadata": {},
   "outputs": [
    {
     "name": "stdout",
     "output_type": "stream",
     "text": [
      "Epoch 1/10\n",
      "\u001b[1m1875/1875\u001b[0m \u001b[32m━━━━━━━━━━━━━━━━━━━━\u001b[0m\u001b[37m\u001b[0m \u001b[1m20s\u001b[0m 9ms/step - accuracy: 0.9064 - loss: 0.3151 - val_accuracy: 0.9828 - val_loss: 0.0561\n",
      "Epoch 2/10\n",
      "\u001b[1m1875/1875\u001b[0m \u001b[32m━━━━━━━━━━━━━━━━━━━━\u001b[0m\u001b[37m\u001b[0m \u001b[1m16s\u001b[0m 9ms/step - accuracy: 0.9862 - loss: 0.0476 - val_accuracy: 0.9863 - val_loss: 0.0382\n",
      "Epoch 3/10\n",
      "\u001b[1m1875/1875\u001b[0m \u001b[32m━━━━━━━━━━━━━━━━━━━━\u001b[0m\u001b[37m\u001b[0m \u001b[1m17s\u001b[0m 9ms/step - accuracy: 0.9892 - loss: 0.0329 - val_accuracy: 0.9898 - val_loss: 0.0335\n",
      "Epoch 4/10\n",
      "\u001b[1m1875/1875\u001b[0m \u001b[32m━━━━━━━━━━━━━━━━━━━━\u001b[0m\u001b[37m\u001b[0m \u001b[1m16s\u001b[0m 8ms/step - accuracy: 0.9926 - loss: 0.0233 - val_accuracy: 0.9874 - val_loss: 0.0369\n",
      "Epoch 5/10\n",
      "\u001b[1m1875/1875\u001b[0m \u001b[32m━━━━━━━━━━━━━━━━━━━━\u001b[0m\u001b[37m\u001b[0m \u001b[1m15s\u001b[0m 8ms/step - accuracy: 0.9939 - loss: 0.0194 - val_accuracy: 0.9897 - val_loss: 0.0321\n",
      "Epoch 6/10\n",
      "\u001b[1m1875/1875\u001b[0m \u001b[32m━━━━━━━━━━━━━━━━━━━━\u001b[0m\u001b[37m\u001b[0m \u001b[1m16s\u001b[0m 9ms/step - accuracy: 0.9964 - loss: 0.0122 - val_accuracy: 0.9902 - val_loss: 0.0336\n",
      "Epoch 7/10\n",
      "\u001b[1m1875/1875\u001b[0m \u001b[32m━━━━━━━━━━━━━━━━━━━━\u001b[0m\u001b[37m\u001b[0m \u001b[1m15s\u001b[0m 8ms/step - accuracy: 0.9974 - loss: 0.0085 - val_accuracy: 0.9910 - val_loss: 0.0328\n",
      "Epoch 8/10\n",
      "\u001b[1m1875/1875\u001b[0m \u001b[32m━━━━━━━━━━━━━━━━━━━━\u001b[0m\u001b[37m\u001b[0m \u001b[1m23s\u001b[0m 12ms/step - accuracy: 0.9975 - loss: 0.0075 - val_accuracy: 0.9905 - val_loss: 0.0334\n",
      "Epoch 9/10\n",
      "\u001b[1m1875/1875\u001b[0m \u001b[32m━━━━━━━━━━━━━━━━━━━━\u001b[0m\u001b[37m\u001b[0m \u001b[1m25s\u001b[0m 13ms/step - accuracy: 0.9978 - loss: 0.0072 - val_accuracy: 0.9880 - val_loss: 0.0573\n",
      "Epoch 10/10\n",
      "\u001b[1m1875/1875\u001b[0m \u001b[32m━━━━━━━━━━━━━━━━━━━━\u001b[0m\u001b[37m\u001b[0m \u001b[1m26s\u001b[0m 14ms/step - accuracy: 0.9981 - loss: 0.0058 - val_accuracy: 0.9896 - val_loss: 0.0449\n"
     ]
    }
   ],
   "source": [
    "model.compile(optimizer='adam',loss='categorical_crossentropy',metrics=['accuracy'])\n",
    "history=model.fit(x_train,y_train,epochs=10,validation_data=(x_test,y_test))"
   ]
  },
  {
   "cell_type": "markdown",
   "metadata": {},
   "source": [
    "d. Estimating the model's performance"
   ]
  },
  {
   "cell_type": "code",
   "execution_count": 8,
   "metadata": {},
   "outputs": [
    {
     "name": "stdout",
     "output_type": "stream",
     "text": [
      "\u001b[1m313/313\u001b[0m \u001b[32m━━━━━━━━━━━━━━━━━━━━\u001b[0m\u001b[37m\u001b[0m \u001b[1m2s\u001b[0m 6ms/step - accuracy: 0.9863 - loss: 0.0597\n",
      "Test accuracy: 0.9896000027656555\n"
     ]
    }
   ],
   "source": [
    "test_loss,test_acc=model.evaluate(x_test,y_test)\n",
    "print('Test accuracy:',test_acc)"
   ]
  },
  {
   "cell_type": "code",
   "execution_count": 9,
   "metadata": {},
   "outputs": [
    {
     "data": {
      "image/png": "[encoded data removed]",
      "text/plain": [
       "<Figure size 640x480 with 1 Axes>"
      ]
     },
     "metadata": {},
     "output_type": "display_data"
    }
   ],
   "source": [
    "plt.plot(history.history['loss'],label=('loss'))\n",
    "plt.plot(history.history['accuracy'],label=('accuracy'))\n",
    "plt.legend()\n",
    "plt.show()\n"
   ]
  },
  {
   "cell_type": "code",
   "execution_count": 10,
   "metadata": {},
   "outputs": [
    {
     "name": "stdout",
     "output_type": "stream",
     "text": [
      "\u001b[1m313/313\u001b[0m \u001b[32m━━━━━━━━━━━━━━━━━━━━\u001b[0m\u001b[37m\u001b[0m \u001b[1m2s\u001b[0m 7ms/step\n",
      "Actual Number:  0\n",
      "Predicted Number:  0\n"
     ]
    },
    {
     "data": {
      "image/png": "[encoded data removed]",
      "text/plain": [
       "<Figure size 640x480 with 1 Axes>"
      ]
     },
     "metadata": {},
     "output_type": "display_data"
    }
   ],
   "source": [
    "n = 3\n",
    "plt.imshow(x_test[n].reshape(28, 28), \"gray\")\n",
    "\n",
    "predicted_value = model.predict(x_test)\n",
    "\n",
    "print(\"Actual Number: \",np.argmax(y_test[n]))\n",
    "print(\"Predicted Number: \", np.argmax(predicted_value[n]))"
   ]
  },
  {
   "cell_type": "code",
   "execution_count": 11,
   "metadata": {},
   "outputs": [
    {
     "data": {
      "text/plain": [
       "'\\nHere\\'s a detailed explanation of the code with potential viva questions and answers. This includes line-by-line code analysis, as well as the purpose and significance of each component.\\n\\n---\\n\\n### Code Explanation\\n\\n```python\\nimport numpy as np\\nimport pandas as pd\\nimport matplotlib.pyplot as plt\\nimport tensorflow as tf\\nfrom tensorflow.keras import models, layers\\nfrom tensorflow.keras.utils import to_categorical\\n```\\n**Explanation**: These are import statements for libraries essential to building, training, and evaluating a Convolutional Neural Network (CNN):\\n- `numpy` for numerical operations.\\n- `pandas` for data handling.\\n- `matplotlib.pyplot` for data visualization.\\n- `tensorflow` and `tensorflow.keras` for defining and training the CNN model.\\n\\n**Viva Questions**:\\n1. **Why do we need `numpy` in this code?**  \\n   - It is useful for numerical operations on arrays, though it\\'s used minimally here.\\n\\n2. **What is the role of `tensorflow.keras`?**  \\n   - It provides tools to build, train, and evaluate neural networks.\\n\\n---\\n\\n```python\\nmnist_train=pd.read_csv(\\'./mnist_train.csv\\')\\nx_train=mnist_train.drop(\\'label\\',axis=1).values\\ny_train=mnist_train[\\'label\\'].values\\n```\\n**Explanation**: Loads the MNIST training data from a CSV file, separates features (`x_train`) and labels (`y_train`). The `.values` attribute converts them into NumPy arrays, necessary for model training.\\n\\n**Viva Questions**:\\n1. **What does `pd.read_csv` do?**  \\n   - It reads data from a CSV file into a pandas DataFrame.\\n\\n2. **Why use `.values` here?**  \\n   - To convert the pandas DataFrame into a NumPy array, as Keras requires input data in array format.\\n\\n---\\n\\n```python\\nprint(x_train.shape)\\nprint(y_train.shape)\\n```\\n**Explanation**: Prints the shape of `x_train` and `y_train` to verify the data dimensions. The expected output shapes are `(60000, 784)` and `(60000,)`, representing 60,000 images of 784 pixels each (28x28 flattened) and 60,000 labels, respectively.\\n\\n**Viva Question**:\\n1. **Why check `x_train.shape` and `y_train.shape`?**  \\n   - To confirm the data is correctly loaded and formatted before training.\\n\\n---\\n\\n```python\\nmnist_test=pd.read_csv(\\'./mnist_test.csv\\')\\nx_test=mnist_test.drop(\\'label\\',axis=1).values\\ny_test=mnist_test[\\'label\\'].values\\n```\\n**Explanation**: Loads the MNIST testing data, separates the pixel values (`x_test`) and labels (`y_test`), and converts them to NumPy arrays.\\n\\n**Viva Question**:\\n1. **What does `axis=1` mean in `drop`?**  \\n   - It specifies dropping the column named \"label\".\\n\\n---\\n\\n```python\\nprint(x_test.shape)\\nprint(y_test.shape)\\n```\\n**Explanation**: Prints the shape of `x_test` and `y_test` to confirm test data dimensions. The expected output shapes are `(10000, 784)` for `x_test` and `(10000,)` for `y_test`, indicating 10,000 test samples.\\n\\n---\\n\\n```python\\nx_train = x_train / 255.0\\nx_test = x_test / 255.0\\n```\\n**Explanation**: Normalizes the pixel values of `x_train` and `x_test` by dividing by 255, bringing the values to a [0, 1] range, which accelerates model convergence.\\n\\n**Viva Questions**:\\n1. **Why normalize pixel values?**  \\n   - To standardize the input data for faster training and to prevent large values from causing numerical instability.\\n\\n2. **Why divide by 255?**  \\n   - Since pixel values range from 0 to 255, dividing by 255 scales them to a [0, 1] range.\\n\\n---\\n\\n```python\\nx_train = x_train.reshape((-1, 28, 28, 1))\\nx_test = x_test.reshape((-1, 28, 28, 1))\\n```\\n**Explanation**: Reshapes `x_train` and `x_test` into 28x28 pixel images with 1 channel (grayscale). `-1` infers the batch size automatically.\\n\\n**Viva Questions**:\\n1. **Why reshape to `(28, 28, 1)`?**  \\n   - The CNN expects 2D images (28x28 pixels) with a single channel for grayscale input.\\n\\n2. **What does `-1` in reshape mean?**  \\n   - It allows Python to automatically determine the batch size based on data dimensions.\\n\\n---\\n\\n```python\\ny_train = to_categorical(y_train)\\ny_test = to_categorical(y_test)\\n```\\n**Explanation**: Converts `y_train` and `y_test` to one-hot encoded vectors, where each class label becomes a binary vector (e.g., label 3 becomes `[0,0,0,1,0,0,0,0,0,0]`).\\n\\n**Viva Questions**:\\n1. **What is one-hot encoding?**  \\n   - It\\'s a binary representation where each class label is represented by a vector with a single `1` and remaining `0`s.\\n\\n2. **Why use `to_categorical`?**  \\n   - It converts labels into a format suitable for multi-class classification with `categorical_crossentropy` loss.\\n\\n---\\n\\n```python\\nmodel = models.Sequential([\\n    layers.Conv2D(32, (3,3), activation=\\'relu\\', input_shape=(28,28,1)),\\n    layers.MaxPooling2D((2,2)),\\n    layers.Conv2D(64, (3,3), activation=\\'relu\\'),\\n    layers.MaxPooling2D((2,2)),\\n    layers.Flatten(),\\n    layers.Dense(64, activation=\\'relu\\'),\\n    layers.Dense(10, activation=\\'softmax\\')\\n])\\n```\\n**Explanation**: Defines a Sequential CNN model:\\n- `Conv2D(32, (3,3), activation=\\'relu\\')`: A convolutional layer with 32 filters, 3x3 kernel, and ReLU activation.\\n- `MaxPooling2D((2,2))`: Reduces spatial dimensions by 2x2 pooling.\\n- `Conv2D(64, (3,3), activation=\\'relu\\')`: Another convolutional layer with 64 filters and ReLU activation.\\n- `Flatten()`: Converts 2D feature maps into a 1D vector.\\n- `Dense(64, activation=\\'relu\\')`: A fully connected layer with 64 neurons and ReLU activation.\\n- `Dense(10, activation=\\'softmax\\')`: Output layer with 10 neurons (for 10 classes) and softmax for class probabilities.\\n\\n**Viva Questions**:\\n1. **What is the purpose of convolutional layers?**  \\n   - To detect patterns and features in the image (e.g., edges, textures).\\n\\n2. **Why use `MaxPooling2D`?**  \\n   - It reduces the spatial dimensions of feature maps, retaining important features while decreasing computational load.\\n\\n3. **Why `softmax` in the output layer?**  \\n   - It provides probabilities for each class, making it suitable for multi-class classification.\\n\\n---\\n\\n```python\\nmodel.compile(optimizer=\\'adam\\', loss=\\'categorical_crossentropy\\', metrics=[\\'accuracy\\'])\\n```\\n**Explanation**: Compiles the model with:\\n- `optimizer=\\'adam\\'`: Adaptive learning rate optimization for faster and more efficient convergence.\\n- `loss=\\'categorical_crossentropy\\'`: Loss function for multi-class classification with one-hot encoded labels.\\n- `metrics=[\\'accuracy\\']`: Measures accuracy during training.\\n\\n**Viva Questions**:\\n1. **What is `Adam` optimizer?**  \\n   - An optimization algorithm that adjusts learning rates dynamically, often faster than basic SGD.\\n\\n2. **Why `categorical_crossentropy` for the loss?**  \\n   - It measures the difference between predicted and actual label distributions, ideal for multi-class classification.\\n\\n---\\n\\n```python\\nhistory = model.fit(x_train, y_train, epochs=10, validation_data=(x_test, y_test))\\n```\\n**Explanation**: Trains the model with `x_train` and `y_train` for 10 epochs. `validation_data` is used to check model performance on test data after each epoch.\\n\\n**Viva Questions**:\\n1. **What is an epoch?**  \\n   - A single pass through the entire training dataset.\\n\\n2. **What is the purpose of validation data?**  \\n   - To monitor model performance on unseen data during training, helping detect overfitting.\\n\\n---\\n\\n```python\\ntest_loss, test_acc = model.evaluate(x_test, y_test)\\nprint(\\'Test accuracy:\\', test_acc)\\n```\\n**Explanation**: Evaluates the model on test data, outputting loss and accuracy, which reflect model generalization on unseen data.\\n\\n**Viva Questions**:\\n1. **Why use `evaluate` on test data?**  \\n   - To check how well the model generalizes to new data not seen during training.\\n\\n2. **What does `test_acc` indicate?**  \\n   - The accuracy of the model on the test dataset.\\n\\n---\\n\\n```python\\nplt.plot(history.history[\\'loss\\'], label=\\'loss\\')\\nplt.plot(history.history[\\'accuracy\\'], label=\\'accuracy\\')\\nplt.legend()\\nplt.show()\\n```\\n**Explanation**: Plots the training loss and accuracy across epochs to visualize the training process.\\n\\n**Viva Questions**:\\n1. **Why plot loss and accuracy?**  \\n   - To understand the model\\'s learning progress, observe convergence, and check for overfitting.\\n\\n---\\n\\n```python\\nn = 3\\nplt\\n'"
      ]
     },
     "execution_count": 11,
     "metadata": {},
     "output_type": "execute_result"
    }
   ],
   "source": [
    "'''\n",
    "Here's a detailed explanation of the code with potential viva questions and answers. \n",
    "This includes line-by-line code analysis, as well as the purpose and significance of each component.\n",
    "\n",
    "---\n",
    "\n",
    "### Code Explanation\n",
    "\n",
    "```python\n",
    "import numpy as np\n",
    "import pandas as pd\n",
    "import matplotlib.pyplot as plt\n",
    "import tensorflow as tf\n",
    "from tensorflow.keras import models, layers\n",
    "from tensorflow.keras.utils import to_categorical\n",
    "```\n",
    "**Explanation**: These are import statements for libraries essential to building, training, and evaluating a Convolutional Neural Network (CNN):\n",
    "- `numpy` for numerical operations.\n",
    "- `pandas` for data handling.\n",
    "- `matplotlib.pyplot` for data visualization.\n",
    "- `tensorflow` and `tensorflow.keras` for defining and training the CNN model.\n",
    "\n",
    "**Viva Questions**:\n",
    "1. **Why do we need `numpy` in this code?**  \n",
    "   - It is useful for numerical operations on arrays, though it's used minimally here.\n",
    "\n",
    "2. **What is the role of `tensorflow.keras`?**  \n",
    "   - It provides tools to build, train, and evaluate neural networks.\n",
    "\n",
    "---\n",
    "\n",
    "```python\n",
    "mnist_train=pd.read_csv('./mnist_train.csv')\n",
    "x_train=mnist_train.drop('label',axis=1).values\n",
    "y_train=mnist_train['label'].values\n",
    "```\n",
    "**Explanation**: Loads the MNIST training data from a CSV file, \n",
    "separates features (`x_train`) and labels (`y_train`). The `.values`\n",
    "attribute converts them into NumPy arrays, necessary for model training.\n",
    "\n",
    "**Viva Questions**:\n",
    "1. **What does `pd.read_csv` do?**  \n",
    "   - It reads data from a CSV file into a pandas DataFrame.\n",
    "\n",
    "2. **Why use `.values` here?**  \n",
    "   - To convert the pandas DataFrame into a NumPy array, as Keras requires input data in array format.\n",
    "\n",
    "---\n",
    "\n",
    "```python\n",
    "print(x_train.shape)\n",
    "print(y_train.shape)\n",
    "```\n",
    "**Explanation**: Prints the shape of `x_train` and `y_train` to verify the data dimensions\n",
    ". The expected output shapes are `(60000, 784)` and `(60000,)`, representing 60,000 images \n",
    "of 784 pixels each (28x28 flattened) and 60,000 labels, respectively.\n",
    "\n",
    "**Viva Question**:\n",
    "1. **Why check `x_train.shape` and `y_train.shape`?**  \n",
    "   - To confirm the data is correctly loaded and formatted before training.\n",
    "\n",
    "---\n",
    "\n",
    "```python\n",
    "mnist_test=pd.read_csv('./mnist_test.csv')\n",
    "x_test=mnist_test.drop('label',axis=1).values\n",
    "y_test=mnist_test['label'].values\n",
    "```\n",
    "**Explanation**: Loads the MNIST testing data, separates the pixel values (`x_test`) and labels (`y_test`), and converts them to NumPy arrays.\n",
    "\n",
    "**Viva Question**:\n",
    "1. **What does `axis=1` mean in `drop`?**  \n",
    "   - It specifies dropping the column named \"label\".\n",
    "\n",
    "---\n",
    "\n",
    "```python\n",
    "print(x_test.shape)\n",
    "print(y_test.shape)\n",
    "```\n",
    "**Explanation**: Prints the shape of `x_test` and `y_test` to confirm test data dimensions.\n",
    "The expected output shapes are `(10000, 784)` for `x_test` and `(10000,)` for `y_test`, indicating 10,000 test samples.\n",
    "\n",
    "---\n",
    "\n",
    "```python\n",
    "x_train = x_train / 255.0\n",
    "x_test = x_test / 255.0\n",
    "```\n",
    "**Explanation**: Normalizes the pixel values of `x_train` and `x_test` by dividing by 255, bringing the values to a [0, 1] range, \n",
    "which accelerates model convergence.\n",
    "\n",
    "**Viva Questions**:\n",
    "1. **Why normalize pixel values?**  \n",
    "   - To standardize the input data for faster training and to prevent large values from causing numerical instability.\n",
    "\n",
    "2. **Why divide by 255?**  \n",
    "   - Since pixel values range from 0 to 255, dividing by 255 scales them to a [0, 1] range.\n",
    "\n",
    "---\n",
    "\n",
    "```python\n",
    "x_train = x_train.reshape((-1, 28, 28, 1))\n",
    "x_test = x_test.reshape((-1, 28, 28, 1))\n",
    "```\n",
    "**Explanation**: Reshapes `x_train` and `x_test` into 28x28 pixel images with 1 channel (grayscale). `-1` infers the batch size automatically.\n",
    "\n",
    "**Viva Questions**:\n",
    "1. **Why reshape to `(28, 28, 1)`?**  \n",
    "   - The CNN expects 2D images (28x28 pixels) with a single channel for grayscale input.\n",
    "\n",
    "2. **What does `-1` in reshape mean?**  \n",
    "   - It allows Python to automatically determine the batch size based on data dimensions.\n",
    "\n",
    "---\n",
    "\n",
    "```python\n",
    "y_train = to_categorical(y_train)\n",
    "y_test = to_categorical(y_test)\n",
    "```\n",
    "**Explanation**: Converts `y_train` and `y_test` to one-hot encoded vectors, where each class label becomes a binary vector \n",
    "(e.g., label 3 becomes `[0,0,0,1,0,0,0,0,0,0]`).\n",
    "\n",
    "**Viva Questions**:\n",
    "1. **What is one-hot encoding?**  \n",
    "   - It's a binary representation where each class label is represented by a vector with a single `1` and remaining `0`s.\n",
    "\n",
    "2. **Why use `to_categorical`?**  \n",
    "   - It converts labels into a format suitable for multi-class classification with `categorical_crossentropy` loss.\n",
    "\n",
    "---\n",
    "\n",
    "```python\n",
    "model = models.Sequential([\n",
    "    layers.Conv2D(32, (3,3), activation='relu', input_shape=(28,28,1)),\n",
    "    layers.MaxPooling2D((2,2)),\n",
    "    layers.Conv2D(64, (3,3), activation='relu'),\n",
    "    layers.MaxPooling2D((2,2)),\n",
    "    layers.Flatten(),\n",
    "    layers.Dense(64, activation='relu'),\n",
    "    layers.Dense(10, activation='softmax')\n",
    "])\n",
    "```\n",
    "**Explanation**: Defines a Sequential CNN model:\n",
    "- `Conv2D(32, (3,3), activation='relu')`: A convolutional layer with 32 filters, 3x3 kernel, and ReLU activation.\n",
    "- `MaxPooling2D((2,2))`: Reduces spatial dimensions by 2x2 pooling.\n",
    "- `Conv2D(64, (3,3), activation='relu')`: Another convolutional layer with 64 filters and ReLU activation.\n",
    "- `Flatten()`: Converts 2D feature maps into a 1D vector.\n",
    "- `Dense(64, activation='relu')`: A fully connected layer with 64 neurons and ReLU activation.\n",
    "- `Dense(10, activation='softmax')`: Output layer with 10 neurons (for 10 classes) and softmax for class probabilities.\n",
    "\n",
    "**Viva Questions**:\n",
    "1. **What is the purpose of convolutional layers?**  \n",
    "   - To detect patterns and features in the image (e.g., edges, textures).\n",
    "\n",
    "2. **Why use `MaxPooling2D`?**  \n",
    "   - It reduces the spatial dimensions of feature maps, retaining important features while decreasing computational load.\n",
    "\n",
    "3. **Why `softmax` in the output layer?**  \n",
    "   - It provides probabilities for each class, making it suitable for multi-class classification.\n",
    "\n",
    "---\n",
    "\n",
    "```python\n",
    "model.compile(optimizer='adam', loss='categorical_crossentropy', metrics=['accuracy'])\n",
    "```\n",
    "**Explanation**: Compiles the model with:\n",
    "- `optimizer='adam'`: Adaptive learning rate optimization for faster and more efficient convergence.\n",
    "- `loss='categorical_crossentropy'`: Loss function for multi-class classification with one-hot encoded labels.\n",
    "- `metrics=['accuracy']`: Measures accuracy during training.\n",
    "\n",
    "**Viva Questions**:\n",
    "1. **What is `Adam` optimizer?**  \n",
    "   - An optimization algorithm that adjusts learning rates dynamically, often faster than basic SGD.\n",
    "\n",
    "2. **Why `categorical_crossentropy` for the loss?**  \n",
    "   - It measures the difference between predicted and actual label distributions, ideal for multi-class classification.\n",
    "\n",
    "---\n",
    "\n",
    "```python\n",
    "history = model.fit(x_train, y_train, epochs=10, validation_data=(x_test, y_test))\n",
    "```\n",
    "**Explanation**: Trains the model with `x_train` and `y_train` for 10 epochs. \n",
    "`validation_data` is used to check model performance on test data after each epoch.\n",
    "\n",
    "**Viva Questions**:\n",
    "1. **What is an epoch?**  \n",
    "   - A single pass through the entire training dataset.\n",
    "\n",
    "2. **What is the purpose of validation data?**  \n",
    "   - To monitor model performance on unseen data during training, helping detect overfitting.\n",
    "\n",
    "---\n",
    "\n",
    "```python\n",
    "test_loss, test_acc = model.evaluate(x_test, y_test)\n",
    "print('Test accuracy:', test_acc)\n",
    "```\n",
    "**Explanation**: Evaluates the model on test data, outputting loss and accuracy, which reflect model generalization on unseen data.\n",
    "\n",
    "**Viva Questions**:\n",
    "1. **Why use `evaluate` on test data?**  \n",
    "   - To check how well the model generalizes to new data not seen during training.\n",
    "\n",
    "2. **What does `test_acc` indicate?**  \n",
    "   - The accuracy of the model on the test dataset.\n",
    "\n",
    "---\n",
    "\n",
    "```python\n",
    "plt.plot(history.history['loss'], label='loss')\n",
    "plt.plot(history.history['accuracy'], label='accuracy')\n",
    "plt.legend()\n",
    "plt.show()\n",
    "```\n",
    "**Explanation**: Plots the training loss and accuracy across epochs to visualize the training process.\n",
    "\n",
    "**Viva Questions**:\n",
    "1. **Why plot loss and accuracy?**  \n",
    "   - To understand the model's learning progress, observe convergence, and check for overfitting.\n",
    "\n",
    "---\n",
    "\n",
    "```python\n",
    "n = 3\n",
    "plt\n",
    "'''"
   ]
  },
  {
   "cell_type": "code",
   "execution_count": null,
   "metadata": {},
   "outputs": [],
   "source": []
  }
 ],
 "metadata": {
  "kernelspec": {
   "display_name": "Python 3 (ipykernel)",
   "language": "python",
   "name": "python3"
  },
  "language_info": {
   "codemirror_mode": {
    "name": "ipython",
    "version": 3
   },
   "file_extension": ".py",
   "mimetype": "text/x-python",
   "name": "python",
   "nbconvert_exporter": "python",
   "pygments_lexer": "ipython3",
   "version": "3.12.7"
  }
 },
 "nbformat": 4,
 "nbformat_minor": 4
}
