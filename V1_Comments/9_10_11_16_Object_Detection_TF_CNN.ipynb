{
 "cells": [
  {
   "cell_type": "code",
   "execution_count": 1,
   "id": "5a055c65",
   "metadata": {},
   "outputs": [],
   "source": [
    "# dataset : https://www.kaggle.com/datasets/imbikramsaha/caltech-101\n",
    "# model link : https://www.kaggle.com/datasets/keras/vgg16/"
   ]
  },
  {
   "cell_type": "code",
   "execution_count": 2,
   "id": "1dce5684",
   "metadata": {},
   "outputs": [],
   "source": [
    "import tensorflow as tf\n",
    "from tensorflow import keras\n",
    "import numpy as np"
   ]
  },
  {
   "cell_type": "code",
   "execution_count": 3,
   "id": "7a4047d8",
   "metadata": {},
   "outputs": [],
   "source": [
    "from tensorflow.keras.preprocessing.image import ImageDataGenerator"
   ]
  },
  {
   "cell_type": "code",
   "execution_count": 5,
   "id": "546dbf23",
   "metadata": {},
   "outputs": [
    {
     "name": "stdout",
     "output_type": "stream",
     "text": [
      "Found 9144 images belonging to 102 classes.\n"
     ]
    }
   ],
   "source": [
    "dataset_dir = \"./caltech-101-img\" #Specifies the directory path where the dataset is located\n",
    "dataset_datagen = ImageDataGenerator(\n",
    "    rescale=1.0 / 255,\n",
    ")\n",
    "#normalises the image\n",
    "\n",
    "# # here batch_size is the number of images in each batch\n",
    "batch_size = 2000\n",
    "dataset_generator = dataset_datagen.flow_from_directory(\n",
    "    dataset_dir,\n",
    "    target_size=(64, 64), #resizes the image into 64 by 64 pixel\n",
    "    batch_size=batch_size, #Sets the batch size for training.\n",
    "    class_mode='categorical' # labels are one-hot encoded\n",
    ")"
   ]
  },
  {
   "cell_type": "code",
   "execution_count": 6,
   "id": "f22f7f30",
   "metadata": {},
   "outputs": [
    {
     "name": "stdout",
     "output_type": "stream",
     "text": [
      "2000\n",
      "2000\n"
     ]
    }
   ],
   "source": [
    "x_train, y_train =  dataset_generator[0]\n",
    "x_test, y_test = dataset_generator[1]\n",
    "\n",
    "print(len(x_train))\n",
    "print(len(x_test))"
   ]
  },
  {
   "cell_type": "code",
   "execution_count": 7,
   "id": "76a5878f",
   "metadata": {},
   "outputs": [],
   "source": [
    "from tensorflow.keras.models import Model\n",
    "from tensorflow.keras.layers import Dense, Flatten\n",
    "from tensorflow.keras.optimizers import Adam"
   ]
  },
  {
   "cell_type": "code",
   "execution_count": 8,
   "id": "2c599aaa",
   "metadata": {},
   "outputs": [],
   "source": [
    "from tensorflow.keras.applications import VGG16"
   ]
  },
  {
   "cell_type": "code",
   "execution_count": 9,
   "id": "8b9b2d85",
   "metadata": {},
   "outputs": [],
   "source": [
    "weights_path = \"vgg16_weights_tf_dim_ordering_tf_kernels_notop.h5\"\n",
    "base_model = VGG16(weights=weights_path, include_top=False, input_shape=(64, 64, 3))"
   ]
  },
  {
   "cell_type": "code",
   "execution_count": 10,
   "id": "f0892cea",
   "metadata": {},
   "outputs": [],
   "source": [
    "for layer in base_model.layers:\n",
    "   layer.trainable = False"
   ]
  },
  {
   "cell_type": "code",
   "execution_count": 11,
   "id": "b25a0c97",
   "metadata": {},
   "outputs": [],
   "source": [
    "x = Flatten()(base_model.output)\n",
    "# Explanation: This line adds a Flatten layer to the output of the base_model. The Flatten layer is used to transform the 3D tensor output from the convolutional base (which is usually the output of the last convolutional layer) into a 1D tensor. This flattening step is necessary when transitioning from convolutional layers to densely connected layers.\n",
    "# Example: Suppose the output shape of base_model is (7, 7, 512). This means you have a 3D tensor with dimensions 7x7x512. Applying the Flatten layer converts this 3D tensor into a 1D tensor by unraveling the values along the dimensions. In this case, the resulting 1D tensor would have a size of 7 * 7 * 512 = 25088.\n",
    "x = Dense(64, activation='relu')(x)\n",
    "predictions = Dense(102, activation='softmax')(x)\n",
    "\n",
    "# Create the model\n",
    "model = Model(inputs=base_model.input, outputs=predictions)\n",
    "# Compile the model\n",
    "model.compile(optimizer=\"adam\", loss='categorical_crossentropy', metrics=['accuracy'])"
   ]
  },
  {
   "cell_type": "code",
   "execution_count": 12,
   "id": "ba0a99c5",
   "metadata": {},
   "outputs": [
    {
     "name": "stdout",
     "output_type": "stream",
     "text": [
      "Epoch 1/10\n",
      "\u001b[1m32/32\u001b[0m \u001b[32m━━━━━━━━━━━━━━━━━━━━\u001b[0m\u001b[37m\u001b[0m \u001b[1m74s\u001b[0m 2s/step - accuracy: 0.1308 - loss: 4.2653 - val_accuracy: 0.3040 - val_loss: 3.4154\n",
      "Epoch 2/10\n",
      "\u001b[1m32/32\u001b[0m \u001b[32m━━━━━━━━━━━━━━━━━━━━\u001b[0m\u001b[37m\u001b[0m \u001b[1m37s\u001b[0m 1s/step - accuracy: 0.3230 - loss: 3.1713 - val_accuracy: 0.3750 - val_loss: 2.9760\n",
      "Epoch 3/10\n",
      "\u001b[1m32/32\u001b[0m \u001b[32m━━━━━━━━━━━━━━━━━━━━\u001b[0m\u001b[37m\u001b[0m \u001b[1m37s\u001b[0m 1s/step - accuracy: 0.4195 - loss: 2.6936 - val_accuracy: 0.4150 - val_loss: 2.7007\n",
      "Epoch 4/10\n",
      "\u001b[1m32/32\u001b[0m \u001b[32m━━━━━━━━━━━━━━━━━━━━\u001b[0m\u001b[37m\u001b[0m \u001b[1m37s\u001b[0m 1s/step - accuracy: 0.4925 - loss: 2.2797 - val_accuracy: 0.4575 - val_loss: 2.4605\n",
      "Epoch 5/10\n",
      "\u001b[1m32/32\u001b[0m \u001b[32m━━━━━━━━━━━━━━━━━━━━\u001b[0m\u001b[37m\u001b[0m \u001b[1m37s\u001b[0m 1s/step - accuracy: 0.5747 - loss: 1.9528 - val_accuracy: 0.4920 - val_loss: 2.2889\n",
      "Epoch 6/10\n",
      "\u001b[1m32/32\u001b[0m \u001b[32m━━━━━━━━━━━━━━━━━━━━\u001b[0m\u001b[37m\u001b[0m \u001b[1m37s\u001b[0m 1s/step - accuracy: 0.6371 - loss: 1.6573 - val_accuracy: 0.5140 - val_loss: 2.1710\n",
      "Epoch 7/10\n",
      "\u001b[1m32/32\u001b[0m \u001b[32m━━━━━━━━━━━━━━━━━━━━\u001b[0m\u001b[37m\u001b[0m \u001b[1m38s\u001b[0m 1s/step - accuracy: 0.6888 - loss: 1.4586 - val_accuracy: 0.5295 - val_loss: 2.1051\n",
      "Epoch 8/10\n",
      "\u001b[1m32/32\u001b[0m \u001b[32m━━━━━━━━━━━━━━━━━━━━\u001b[0m\u001b[37m\u001b[0m \u001b[1m39s\u001b[0m 1s/step - accuracy: 0.7241 - loss: 1.2530 - val_accuracy: 0.5410 - val_loss: 2.0178\n",
      "Epoch 9/10\n",
      "\u001b[1m32/32\u001b[0m \u001b[32m━━━━━━━━━━━━━━━━━━━━\u001b[0m\u001b[37m\u001b[0m \u001b[1m38s\u001b[0m 1s/step - accuracy: 0.7580 - loss: 1.1519 - val_accuracy: 0.5480 - val_loss: 1.9593\n",
      "Epoch 10/10\n",
      "\u001b[1m32/32\u001b[0m \u001b[32m━━━━━━━━━━━━━━━━━━━━\u001b[0m\u001b[37m\u001b[0m \u001b[1m38s\u001b[0m 1s/step - accuracy: 0.7841 - loss: 1.0255 - val_accuracy: 0.5485 - val_loss: 1.9242\n"
     ]
    },
    {
     "data": {
      "text/plain": [
       "<keras.src.callbacks.history.History at 0x27a73da0d10>"
      ]
     },
     "execution_count": 12,
     "metadata": {},
     "output_type": "execute_result"
    }
   ],
   "source": [
    "model.fit(x_train, y_train, batch_size=64, epochs=10, validation_data=(x_test, y_test))"
   ]
  },
  {
   "cell_type": "code",
   "execution_count": 13,
   "id": "dd74f9db",
   "metadata": {},
   "outputs": [
    {
     "name": "stdout",
     "output_type": "stream",
     "text": [
      "Epoch 1/20\n",
      "\u001b[1m32/32\u001b[0m \u001b[32m━━━━━━━━━━━━━━━━━━━━\u001b[0m\u001b[37m\u001b[0m \u001b[1m42s\u001b[0m 1s/step - accuracy: 0.2780 - loss: 3.6088 - val_accuracy: 0.4865 - val_loss: 2.3708\n",
      "Epoch 2/20\n",
      "\u001b[1m32/32\u001b[0m \u001b[32m━━━━━━━━━━━━━━━━━━━━\u001b[0m\u001b[37m\u001b[0m \u001b[1m40s\u001b[0m 1s/step - accuracy: 0.5658 - loss: 1.8893 - val_accuracy: 0.5315 - val_loss: 2.0119\n",
      "Epoch 3/20\n",
      "\u001b[1m32/32\u001b[0m \u001b[32m━━━━━━━━━━━━━━━━━━━━\u001b[0m\u001b[37m\u001b[0m \u001b[1m40s\u001b[0m 1s/step - accuracy: 0.6857 - loss: 1.2636 - val_accuracy: 0.5730 - val_loss: 1.7927\n",
      "Epoch 4/20\n",
      "\u001b[1m32/32\u001b[0m \u001b[32m━━━━━━━━━━━━━━━━━━━━\u001b[0m\u001b[37m\u001b[0m \u001b[1m41s\u001b[0m 1s/step - accuracy: 0.7902 - loss: 0.7719 - val_accuracy: 0.6000 - val_loss: 1.7019\n",
      "Epoch 5/20\n",
      "\u001b[1m32/32\u001b[0m \u001b[32m━━━━━━━━━━━━━━━━━━━━\u001b[0m\u001b[37m\u001b[0m \u001b[1m41s\u001b[0m 1s/step - accuracy: 0.8658 - loss: 0.4828 - val_accuracy: 0.6180 - val_loss: 1.6901\n",
      "Epoch 6/20\n",
      "\u001b[1m32/32\u001b[0m \u001b[32m━━━━━━━━━━━━━━━━━━━━\u001b[0m\u001b[37m\u001b[0m \u001b[1m40s\u001b[0m 1s/step - accuracy: 0.9263 - loss: 0.3278 - val_accuracy: 0.6255 - val_loss: 1.7383\n",
      "Epoch 7/20\n",
      "\u001b[1m32/32\u001b[0m \u001b[32m━━━━━━━━━━━━━━━━━━━━\u001b[0m\u001b[37m\u001b[0m \u001b[1m38s\u001b[0m 1s/step - accuracy: 0.9423 - loss: 0.2074 - val_accuracy: 0.6310 - val_loss: 1.7623\n",
      "Epoch 8/20\n",
      "\u001b[1m32/32\u001b[0m \u001b[32m━━━━━━━━━━━━━━━━━━━━\u001b[0m\u001b[37m\u001b[0m \u001b[1m38s\u001b[0m 1s/step - accuracy: 0.9693 - loss: 0.1011 - val_accuracy: 0.6155 - val_loss: 1.8538\n",
      "Epoch 9/20\n",
      "\u001b[1m32/32\u001b[0m \u001b[32m━━━━━━━━━━━━━━━━━━━━\u001b[0m\u001b[37m\u001b[0m \u001b[1m39s\u001b[0m 1s/step - accuracy: 0.9849 - loss: 0.0632 - val_accuracy: 0.6455 - val_loss: 1.8363\n",
      "Epoch 10/20\n",
      "\u001b[1m32/32\u001b[0m \u001b[32m━━━━━━━━━━━━━━━━━━━━\u001b[0m\u001b[37m\u001b[0m \u001b[1m39s\u001b[0m 1s/step - accuracy: 0.9871 - loss: 0.0641 - val_accuracy: 0.6385 - val_loss: 1.8086\n",
      "Epoch 11/20\n",
      "\u001b[1m32/32\u001b[0m \u001b[32m━━━━━━━━━━━━━━━━━━━━\u001b[0m\u001b[37m\u001b[0m \u001b[1m39s\u001b[0m 1s/step - accuracy: 0.9850 - loss: 0.0566 - val_accuracy: 0.6300 - val_loss: 1.9063\n",
      "Epoch 12/20\n",
      "\u001b[1m32/32\u001b[0m \u001b[32m━━━━━━━━━━━━━━━━━━━━\u001b[0m\u001b[37m\u001b[0m \u001b[1m39s\u001b[0m 1s/step - accuracy: 0.9940 - loss: 0.0390 - val_accuracy: 0.6355 - val_loss: 1.8408\n",
      "Epoch 13/20\n",
      "\u001b[1m32/32\u001b[0m \u001b[32m━━━━━━━━━━━━━━━━━━━━\u001b[0m\u001b[37m\u001b[0m \u001b[1m38s\u001b[0m 1s/step - accuracy: 0.9928 - loss: 0.0288 - val_accuracy: 0.6420 - val_loss: 1.8837\n",
      "Epoch 14/20\n",
      "\u001b[1m32/32\u001b[0m \u001b[32m━━━━━━━━━━━━━━━━━━━━\u001b[0m\u001b[37m\u001b[0m \u001b[1m39s\u001b[0m 1s/step - accuracy: 0.9963 - loss: 0.0218 - val_accuracy: 0.6405 - val_loss: 1.9202\n",
      "Epoch 15/20\n",
      "\u001b[1m32/32\u001b[0m \u001b[32m━━━━━━━━━━━━━━━━━━━━\u001b[0m\u001b[37m\u001b[0m \u001b[1m38s\u001b[0m 1s/step - accuracy: 0.9936 - loss: 0.0222 - val_accuracy: 0.6440 - val_loss: 1.9412\n",
      "Epoch 16/20\n",
      "\u001b[1m32/32\u001b[0m \u001b[32m━━━━━━━━━━━━━━━━━━━━\u001b[0m\u001b[37m\u001b[0m \u001b[1m38s\u001b[0m 1s/step - accuracy: 0.9945 - loss: 0.0271 - val_accuracy: 0.6400 - val_loss: 1.8930\n",
      "Epoch 17/20\n",
      "\u001b[1m32/32\u001b[0m \u001b[32m━━━━━━━━━━━━━━━━━━━━\u001b[0m\u001b[37m\u001b[0m \u001b[1m38s\u001b[0m 1s/step - accuracy: 0.9947 - loss: 0.0227 - val_accuracy: 0.6405 - val_loss: 1.9295\n",
      "Epoch 18/20\n",
      "\u001b[1m32/32\u001b[0m \u001b[32m━━━━━━━━━━━━━━━━━━━━\u001b[0m\u001b[37m\u001b[0m \u001b[1m38s\u001b[0m 1s/step - accuracy: 0.9761 - loss: 0.1100 - val_accuracy: 0.6250 - val_loss: 2.0176\n",
      "Epoch 19/20\n",
      "\u001b[1m32/32\u001b[0m \u001b[32m━━━━━━━━━━━━━━━━━━━━\u001b[0m\u001b[37m\u001b[0m \u001b[1m39s\u001b[0m 1s/step - accuracy: 0.9969 - loss: 0.0227 - val_accuracy: 0.6375 - val_loss: 2.0863\n",
      "Epoch 20/20\n",
      "\u001b[1m32/32\u001b[0m \u001b[32m━━━━━━━━━━━━━━━━━━━━\u001b[0m\u001b[37m\u001b[0m \u001b[1m40s\u001b[0m 1s/step - accuracy: 0.9946 - loss: 0.0250 - val_accuracy: 0.6335 - val_loss: 2.1277\n"
     ]
    },
    {
     "data": {
      "text/plain": [
       "<keras.src.callbacks.history.History at 0x27a1c617950>"
      ]
     },
     "execution_count": 13,
     "metadata": {},
     "output_type": "execute_result"
    }
   ],
   "source": [
    "base_model = VGG16(weights=weights_path, include_top=False, input_shape=(64, 64, 3))\n",
    "# freeze all layers first\n",
    "for layer in base_model.layers:\n",
    "   layer.trainable = False\n",
    "# unfreeze last 4 layers of base model\n",
    "for layer in base_model.layers[len(base_model.layers) - 2:]:\n",
    "   layer.trainable = True\n",
    "# fine-tuning hyper parameters\n",
    "x = Flatten()(base_model.output)\n",
    "x = Dense(512, activation='relu')(x)\n",
    "x = tf.keras.layers.Dropout(0.3)(x)\n",
    "predictions = Dense(102, activation='softmax')(x)\n",
    "\n",
    "# Create the model\n",
    "model = Model(inputs=base_model.input, outputs=predictions)\n",
    "# Compile the model\n",
    "model.compile(optimizer=Adam(learning_rate=0.001), loss='categorical_crossentropy', metrics=['accuracy'])\n",
    "# training fine tuned model\n",
    "model.fit(x_train, y_train, batch_size=64, epochs=20, validation_data=(x_test, y_test))\n"
   ]
  },
  {
   "cell_type": "code",
   "execution_count": 14,
   "id": "9a09850d",
   "metadata": {},
   "outputs": [
    {
     "name": "stdout",
     "output_type": "stream",
     "text": [
      "\u001b[1m63/63\u001b[0m \u001b[32m━━━━━━━━━━━━━━━━━━━━\u001b[0m\u001b[37m\u001b[0m \u001b[1m20s\u001b[0m 311ms/step\n"
     ]
    }
   ],
   "source": [
    "import matplotlib.pyplot as plt\n",
    "predicted_value = model.predict(x_test)"
   ]
  },
  {
   "cell_type": "code",
   "execution_count": 15,
   "id": "91552a80",
   "metadata": {},
   "outputs": [],
   "source": [
    "labels = list(dataset_generator.class_indices.keys())"
   ]
  },
  {
   "cell_type": "code",
   "execution_count": 20,
   "id": "4b877967",
   "metadata": {},
   "outputs": [
    {
     "name": "stdout",
     "output_type": "stream",
     "text": [
      "Preditcted:  chandelier\n",
      "Actual:  chandelier\n"
     ]
    },
    {
     "data": {
      "image/png": "[encoded data removed]",
      "text/plain": [
       "<Figure size 640x480 with 1 Axes>"
      ]
     },
     "metadata": {},
     "output_type": "display_data"
    }
   ],
   "source": [
    "n = 88\n",
    "\n",
    "plt.imshow(x_test[n])\n",
    "print(\"Preditcted: \",labels[np.argmax(predicted_value[n])])\n",
    "print(\"Actual: \", labels[np.argmax(y_test[n])])"
   ]
  },
  {
   "cell_type": "code",
   "execution_count": null,
   "id": "6a706e69",
   "metadata": {},
   "outputs": [],
   "source": [
    "'''\n",
    "Here is the line-by-line explanation and answers for potential viva questions based on the code you've provided.\n",
    "\n",
    "### **Line-by-Line Code Explanation:**\n",
    "\n",
    "#### **1. Dataset Preparation:**\n",
    "```python\n",
    "dataset_dir = \"./caltech-101-img\"\n",
    "dataset_datagen = ImageDataGenerator(rescale=1.0 / 255)\n",
    "```\n",
    "- **Explanation**: \n",
    "  - `dataset_dir`: Specifies the directory path where the dataset is located.\n",
    "  - `ImageDataGenerator`: This class is used to augment and preprocess images for training. The `rescale=1.0 / 255` normalizes the pixel val\n",
    "  ues of the images to a range between 0 and 1, which is a common practice for neural networks.\n",
    "- **Significance for Viva**: It's important to normalize the image data to help the model converge faster during training and avoid issues related to large pixel values.\n",
    "\n",
    "```python\n",
    "batch_size = 2000\n",
    "dataset_generator = dataset_datagen.flow_from_directory(\n",
    "    dataset_dir,\n",
    "    target_size=(64, 64),  # Resize images to 64x64 pixels\n",
    "    batch_size=batch_size,\n",
    "    class_mode='categorical'  # One-hot encoding of labels\n",
    ")\n",
    "```\n",
    "- **Explanation**: \n",
    "  - `batch_size`: Defines how many images will be processed in each batch during training.\n",
    "  - `flow_from_directory`: This method loads images from the directory specified in `dataset_dir`. It resizes the images to 64x64 pixels, \n",
    "  and applies the preprocessing (rescaling) defined in the `ImageDataGenerator`. \n",
    "  The `class_mode='categorical'` indicates that the labels are encoded as one-hot vectors.\n",
    "- **Significance for Viva**: This is used to load the dataset in a way that is suitable for training deep learning models. It ensures that images are resized and labels are encoded in the required format.\n",
    "\n",
    "```python\n",
    "x_train, y_train = dataset_generator[0]\n",
    "x_test, y_test = dataset_generator[1]\n",
    "print(len(x_train))\n",
    "print(len(x_test))\n",
    "```\n",
    "- **Explanation**: \n",
    "  - Retrieves the training and test batches (images and their corresponding labels) from the generator. `x_train` and `y_train` are the features (images) and labels for training, while `x_test` and `y_test` are used for testing.\n",
    "  - Prints the lengths of `x_train` and `x_test`, which should show how many images are in each set.\n",
    "- **Significance for Viva**: Ensures you understand the structure of the dataset and confirms that the images are being loaded correctly.\n",
    "\n",
    "#### **2. Building the Model Using VGG16:**\n",
    "```python\n",
    "from tensorflow.keras.applications import VGG16\n",
    "VGG16 is a deep convolutional neural network architecture developed by the Visual Geometry Group at the University of Oxford. \n",
    "It's widely used for image recognition tasks due to its powerful ability to classify images into various categories.\n",
    "\n",
    "Here's an overview of VGG16:\n",
    "\n",
    "Layers and Structure:\n",
    "\n",
    "VGG16 is called \"16\" because it has 16 weighted layers, including 13 convolutional layers and 3 fully connected layers.\n",
    "weights_path = \"vgg16_weights_tf_dim_ordering_tf_kernels_notop.h5\"\n",
    "base_model = VGG16(weights=weights_path, include_top=False, input_shape=(64, 64, 3))\n",
    "```\n",
    "- **Explanation**: \n",
    "  - Loads the pre-trained VGG16 model without the top (fully connected) layers. The weights are loaded from a file, and the input shape is set to 64x64x3 for RGB images.\n",
    "  - `include_top=False` ensures that the model will not use the original fully connected layers from VGG16, allowing us to add custom layers.\n",
    "- **Significance for Viva**: This part demonstrates transfer learning, where a pre-trained model (VGG16) is used as the base for a new model. This saves time and computational resources.\n",
    "\n",
    "```python\n",
    "for layer in base_model.layers:\n",
    "   layer.trainable = False\n",
    "```\n",
    "- **Explanation**: \n",
    "  - Freezes all layers of the base VGG16 model, preventing them from being updated during training.\n",
    "- **Significance for Viva**: Freezing layers of a pre-trained model helps leverage the learned features (like edge detection, textures, etc.) without modifying them.\n",
    "\n",
    "```python\n",
    "x = Flatten()(base_model.output)\n",
    "x = Dense(64, activation='relu')(x)\n",
    "predictions = Dense(102, activation='softmax')(x)\n",
    "```\n",
    "- **Explanation**: \n",
    "  - The `Flatten` layer converts the output of the convolutional layers (a 3D tensor) into a 1D tensor, suitable for input to dense layers.\n",
    "  - A `Dense` layer with 64 units and ReLU activation is added for further processing.\n",
    "  - The final `Dense` layer outputs 102 units, corresponding to the number of classes in the dataset, with a softmax activation to produce probabilities for each class.\n",
    "- **Significance for Viva**: `Flatten` is necessary for moving from the convolutional layers to the fully connected layers. `Softmax` is used for multi-class classification problems, where the model assigns a probability to each class.\n",
    "\n",
    "```python\n",
    "model = Model(inputs=base_model.input, outputs=predictions)\n",
    "model.compile(optimizer=\"adam\", loss='categorical_crossentropy', metrics=['accuracy'])\n",
    "model.fit(x_train, y_train, batch_size=64, epochs=10, validation_data=(x_test, y_test))\n",
    "```\n",
    "- **Explanation**: \n",
    "  - The model is created using the base VGG16 model (with frozen layers) and the custom output layers.\n",
    "  - The model is compiled using the Adam optimizer and categorical cross-entropy loss function (since it's a multi-class classification problem). It is trained for 10 epochs using the training data.\n",
    "- **Significance for Viva**: This code demonstrates how to fine-tune a model by adding custom layers and training it on a specific task.\n",
    "\n",
    "#### **3. Fine-Tuning the Model:**\n",
    "```python\n",
    "base_model = VGG16(weights=weights_path, include_top=False, input_shape=(64, 64, 3))\n",
    "for layer in base_model.layers:\n",
    "   layer.trainable = False\n",
    "```\n",
    "- **Explanation**: \n",
    "  - Re-loads the base model and freezes all layers again for fine-tuning.\n",
    "- **Significance for Viva**: Fine-tuning is typically done after pre-training the model. By freezing the earlier layers, we avoid overfitting on smaller datasets and use the pre-trained knowledge effectively.\n",
    "\n",
    "```python\n",
    "for layer in base_model.layers[len(base_model.layers) - 2:]:\n",
    "   layer.trainable = True\n",
    "```\n",
    "- **Explanation**: \n",
    "  - Unfreezes the last two layers of the base VGG16 model to allow them to be trained (fine-tuned) on the new dataset.\n",
    "- **Significance for Viva**: Fine-tuning the last layers allows the model to adapt the high-level features learned by VGG16 to the specific dataset.\n",
    "\n",
    "```python\n",
    "x = Flatten()(base_model.output)\n",
    "x = Dense(512, activation='relu')(x)\n",
    "x = tf.keras.layers.Dropout(0.3)(x)\n",
    "predictions = Dense(102, activation='softmax')(x)\n",
    "```\n",
    "- **Explanation**: \n",
    "  - Adds a `Flatten` layer, a `Dense` layer with 512 units, and a `Dropout` layer with a rate of 0.3 to prevent overfitting. Finally, a softmax output layer is used for classification.\n",
    "- **Significance for Viva**: The `Dropout` layer reduces overfitting during training by randomly setting a fraction of input units to 0 at each update during training time.\n",
    "\n",
    "```python\n",
    "model = Model(inputs=base_model.input, outputs=predictions)\n",
    "model.compile(optimizer=Adam(learning_rate=0.001), loss='categorical_crossentropy', metrics=['accuracy'])\n",
    "model.fit(x_train, y_train, batch_size=64, epochs=20, validation_data=(x_test, y_test))\n",
    "```\n",
    "- **Explanation**: \n",
    "  - The model is recompiled with a learning rate of 0.001 (which is often used for fine-tuning) and trained for 20 epochs.\n",
    "- **Significance for Viva**: Fine-tuning with a smaller learning rate allows the model to adjust the learned weights without making drastic updates, which helps improve performance on the target task.\n",
    "\n",
    "#### **4. Evaluating and Visualizing Results:**\n",
    "```python\n",
    "predicted_value = model.predict(x_test)\n",
    "labels = list(dataset_generator.class_indices.keys())\n",
    "n = 88\n",
    "plt.imshow(x_test[n])\n",
    "print(\"Predicted: \", labels[np.argmax(predicted_value[n])])\n",
    "print(\"Actual: \", labels[np.argmax(y_test[n])])\n",
    "```\n",
    "- **Explanation**: \n",
    "  - Makes predictions on the test set and visualizes a sample image from `x_test`. It also compares the predicted and actual labels for that image.\n",
    "- **Significance for Viva**: This step helps assess the model's performance and visualize the predictions, which is crucial for evaluating the effectiveness of the training process.\n",
    "\n",
    "---\n",
    "\n",
    "### **Potential Viva Questions & Answers:**\n",
    "\n",
    "1. **What is the purpose of the `ImageDataGenerator` class?**\n",
    "   - **Answer**: `ImageDataGenerator` is used for real-time data augmentation and preprocessing of images during training. \n",
    "   It resizes, rescales, and applies transformations to images, making the training process more efficient and helping the model generalize better.\n",
    "\n",
    "2. **Why is VGG16 used as the base model?**\n",
    "   - **Answer**: VGG16 is a pre-trained model that has learned features on a large dataset (ImageNet). It serves as a strong feature extractor, and by fine-tuning it, we can adapt it to the current dataset, saving time and computational resources.\n",
    "\n",
    "3. **What does `include_top=False` mean in the VGG16 model?**\n",
    "   - **Answer**: `include_top=False` means that the fully connected layers at the top of the VGG16 model (used for classification) are excluded. This allows us to add our own custom output layers for the specific task.\n",
    "\n",
    "4. **What is the role of the `Flatten\n",
    "\n",
    "` layer?**\n",
    "   - **Answer**: The `Flatten` layer is used to convert the 3D output from the convolutional layers into a 1D tensor, which can then be passed to fully connected layers for classification.\n",
    "\n",
    "5. **What is the significance of using `softmax` activation in the output layer?**\n",
    "   - **Answer**: `Softmax` activation is used for multi-class classification problems. It converts the output values into probabilities, with the sum of probabilities across all classes equal to 1.\n",
    "\n",
    "6. **Why do we freeze some layers during fine-tuning?**\n",
    "   - **Answer**: Freezing layers prevents the weights of those layers from being updated during training. This allows us to retain the pre-learned features from the base model while only training the custom layers, which helps avoid overfitting and speeds up training.\n",
    "\n",
    "7. **What is the role of the `Dropout` layer?**\n",
    "   - **Answer**: The `Dropout` layer helps prevent overfitting by randomly setting a fraction of input units to 0 during training. This forces the model to not rely too heavily on any specific feature and generalize better.\n",
    "\n",
    "8. **Why do we use `categorical_crossentropy` loss function?**\n",
    "   - **Answer**: `categorical_crossentropy` is used for multi-class classification problems where each label is represented as a one-hot encoded vector. It measures the dissimilarity between the true and predicted labels.\n",
    "\n",
    "9. **How does the `Adam` optimizer work?**\n",
    "   - **Answer**: The `Adam` optimizer is an adaptive optimizer that computes individual learning rates for each parameter by considering both the first and second moments of the gradients. It’s efficient and works well in practice.\n",
    "\n",
    "10. **What does the `predict` method do?**\n",
    "    - **Answer**: The `predict` method generates class probabilities for the input data (in this case, the test images), which are used to determine the model’s predictions.\n",
    "\n",
    "\n",
    "'''"
   ]
  },
  {
   "cell_type": "code",
   "execution_count": null,
   "id": "806aaf42-215e-410b-8528-233c65566ba3",
   "metadata": {},
   "outputs": [],
   "source": []
  }
 ],
 "metadata": {
  "kernelspec": {
   "display_name": "Python 3 (ipykernel)",
   "language": "python",
   "name": "python3"
  },
  "language_info": {
   "codemirror_mode": {
    "name": "ipython",
    "version": 3
   },
   "file_extension": ".py",
   "mimetype": "text/x-python",
   "name": "python",
   "nbconvert_exporter": "python",
   "pygments_lexer": "ipython3",
   "version": "3.12.7"
  }
 },
 "nbformat": 4,
 "nbformat_minor": 5
}
