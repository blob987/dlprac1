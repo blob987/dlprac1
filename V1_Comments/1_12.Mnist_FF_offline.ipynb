{
 "cells": [
  {
   "cell_type": "markdown",
   "metadata": {},
   "source": [
    "A. Import The Necessary Packages"
   ]
  },
  {
   "cell_type": "code",
   "execution_count": 2,
   "metadata": {},
   "outputs": [],
   "source": [
    "import matplotlib.pyplot as plt #To visualize data, plot graphs, and analyze model performance (e.g., accuracy over epochs).\n",
    "import numpy as np #It supports array operations, though not explicitly used in the current code\n",
    "import tensorflow as tf #Deep Learning\n",
    "from tensorflow.keras import layers, models #These modules help define and structure the neural network layers\n",
    "from tensorflow.keras.utils import to_categorical\n",
    "import pandas as pd"
   ]
  },
  {
   "cell_type": "markdown",
   "metadata": {},
   "source": [
    "B. Load the training and testing data"
   ]
  },
  {
   "cell_type": "code",
   "execution_count": 3,
   "metadata": {},
   "outputs": [],
   "source": [
    "test = pd.read_csv(\"./mnist_test.csv\")\n",
    "train = pd.read_csv(\"./mnist_train.csv\")"
   ]
  },
  {
   "cell_type": "code",
   "execution_count": 4,
   "metadata": {},
   "outputs": [],
   "source": [
    "x_train = train.drop(\"label\", axis=1)\n",
    "x_test = test.drop(\"label\", axis=1)\n"
   ]
  },
  {
   "cell_type": "code",
   "execution_count": 5,
   "metadata": {},
   "outputs": [],
   "source": [
    "x_train = x_train / 255.0\n",
    "x_test = x_test / 255.0\n"
   ]
  },
  {
   "cell_type": "code",
   "execution_count": 6,
   "metadata": {},
   "outputs": [],
   "source": [
    "y_train = train[\"label\"]\n",
    "y_test = test[\"label\"]\n"
   ]
  },
  {
   "cell_type": "code",
   "execution_count": 7,
   "metadata": {},
   "outputs": [],
   "source": [
    "y_train =to_categorical(y_train)\n",
    "y_test = to_categorical(y_test)\n"
   ]
  },
  {
   "cell_type": "code",
   "execution_count": 8,
   "metadata": {},
   "outputs": [
    {
     "data": {
      "text/plain": [
       "(60000, 784)"
      ]
     },
     "execution_count": 8,
     "metadata": {},
     "output_type": "execute_result"
    }
   ],
   "source": [
    "x_train.shape\n"
   ]
  },
  {
   "cell_type": "markdown",
   "metadata": {},
   "source": [
    "c. Define the network architecture using Keras"
   ]
  },
  {
   "cell_type": "code",
   "execution_count": 9,
   "metadata": {},
   "outputs": [],
   "source": [
    "model=models.Sequential([\n",
    "    layers.Dense(128,activation='relu'),\n",
    "    layers.Dense(64,activation='relu'),\n",
    "    layers.Dense(32,activation='relu'),\n",
    "    layers.Dense(10,activation='softmax')\n",
    "])\n"
   ]
  },
  {
   "cell_type": "markdown",
   "metadata": {},
   "source": [
    "d. Train the model using SGD with 11 epochs"
   ]
  },
  {
   "cell_type": "code",
   "execution_count": 10,
   "metadata": {},
   "outputs": [
    {
     "name": "stdout",
     "output_type": "stream",
     "text": [
      "Epoch 1/11\n",
      "\u001b[1m1875/1875\u001b[0m \u001b[32m━━━━━━━━━━━━━━━━━━━━\u001b[0m\u001b[37m\u001b[0m \u001b[1m6s\u001b[0m 2ms/step - accuracy: 0.6301 - loss: 1.2276 - val_accuracy: 0.9107 - val_loss: 0.3098\n",
      "Epoch 2/11\n",
      "\u001b[1m1875/1875\u001b[0m \u001b[32m━━━━━━━━━━━━━━━━━━━━\u001b[0m\u001b[37m\u001b[0m \u001b[1m3s\u001b[0m 1ms/step - accuracy: 0.9108 - loss: 0.3030 - val_accuracy: 0.9329 - val_loss: 0.2276\n",
      "Epoch 3/11\n",
      "\u001b[1m1875/1875\u001b[0m \u001b[32m━━━━━━━━━━━━━━━━━━━━\u001b[0m\u001b[37m\u001b[0m \u001b[1m2s\u001b[0m 1ms/step - accuracy: 0.9357 - loss: 0.2214 - val_accuracy: 0.9455 - val_loss: 0.1845\n",
      "Epoch 4/11\n",
      "\u001b[1m1875/1875\u001b[0m \u001b[32m━━━━━━━━━━━━━━━━━━━━\u001b[0m\u001b[37m\u001b[0m \u001b[1m3s\u001b[0m 2ms/step - accuracy: 0.9473 - loss: 0.1806 - val_accuracy: 0.9522 - val_loss: 0.1616\n",
      "Epoch 5/11\n",
      "\u001b[1m1875/1875\u001b[0m \u001b[32m━━━━━━━━━━━━━━━━━━━━\u001b[0m\u001b[37m\u001b[0m \u001b[1m3s\u001b[0m 2ms/step - accuracy: 0.9568 - loss: 0.1485 - val_accuracy: 0.9588 - val_loss: 0.1449\n",
      "Epoch 6/11\n",
      "\u001b[1m1875/1875\u001b[0m \u001b[32m━━━━━━━━━━━━━━━━━━━━\u001b[0m\u001b[37m\u001b[0m \u001b[1m3s\u001b[0m 2ms/step - accuracy: 0.9614 - loss: 0.1334 - val_accuracy: 0.9608 - val_loss: 0.1320\n",
      "Epoch 7/11\n",
      "\u001b[1m1875/1875\u001b[0m \u001b[32m━━━━━━━━━━━━━━━━━━━━\u001b[0m\u001b[37m\u001b[0m \u001b[1m3s\u001b[0m 2ms/step - accuracy: 0.9651 - loss: 0.1176 - val_accuracy: 0.9637 - val_loss: 0.1184\n",
      "Epoch 8/11\n",
      "\u001b[1m1875/1875\u001b[0m \u001b[32m━━━━━━━━━━━━━━━━━━━━\u001b[0m\u001b[37m\u001b[0m \u001b[1m2s\u001b[0m 1ms/step - accuracy: 0.9690 - loss: 0.1077 - val_accuracy: 0.9642 - val_loss: 0.1140\n",
      "Epoch 9/11\n",
      "\u001b[1m1875/1875\u001b[0m \u001b[32m━━━━━━━━━━━━━━━━━━━━\u001b[0m\u001b[37m\u001b[0m \u001b[1m2s\u001b[0m 1ms/step - accuracy: 0.9703 - loss: 0.1002 - val_accuracy: 0.9671 - val_loss: 0.1052\n",
      "Epoch 10/11\n",
      "\u001b[1m1875/1875\u001b[0m \u001b[32m━━━━━━━━━━━━━━━━━━━━\u001b[0m\u001b[37m\u001b[0m \u001b[1m3s\u001b[0m 1ms/step - accuracy: 0.9753 - loss: 0.0851 - val_accuracy: 0.9667 - val_loss: 0.1070\n",
      "Epoch 11/11\n",
      "\u001b[1m1875/1875\u001b[0m \u001b[32m━━━━━━━━━━━━━━━━━━━━\u001b[0m\u001b[37m\u001b[0m \u001b[1m3s\u001b[0m 1ms/step - accuracy: 0.9766 - loss: 0.0807 - val_accuracy: 0.9707 - val_loss: 0.1013\n"
     ]
    }
   ],
   "source": [
    "model.compile(optimizer='sgd',loss='categorical_crossentropy',metrics=['accuracy'])\n",
    "\n",
    "history=model.fit(x_train,y_train,epochs=11,validation_data=(x_test,y_test))\n"
   ]
  },
  {
   "cell_type": "markdown",
   "metadata": {},
   "source": [
    "e. Evaluate the network"
   ]
  },
  {
   "cell_type": "code",
   "execution_count": 15,
   "metadata": {},
   "outputs": [
    {
     "name": "stdout",
     "output_type": "stream",
     "text": [
      "\u001b[1m313/313\u001b[0m \u001b[32m━━━━━━━━━━━━━━━━━━━━\u001b[0m\u001b[37m\u001b[0m \u001b[1m1s\u001b[0m 4ms/step - accuracy: 0.9671 - loss: 0.1146\n",
      "Test accuracy: 0.9707000255584717\n",
      "\n",
      "Test loss: 0.10130813717842102\n"
     ]
    }
   ],
   "source": [
    "test_loss,test_acc=model.evaluate(x_test,y_test)\n",
    "print(f\"Test accuracy: {test_acc}\\n\")\n",
    "print(f\"Test loss: {test_loss}\")\n"
   ]
  },
  {
   "cell_type": "markdown",
   "metadata": {},
   "source": [
    "f. Plot the training loss and accuracy"
   ]
  },
  {
   "cell_type": "code",
   "execution_count": 16,
   "metadata": {},
   "outputs": [
    {
     "data": {
      "text/plain": [
       "[<matplotlib.lines.Line2D at 0x176aca010a0>]"
      ]
     },
     "execution_count": 16,
     "metadata": {},
     "output_type": "execute_result"
    },
    {
     "data": {
      "image/png": "[encoded data removed]",
      "text/plain": [
       "<Figure size 640x480 with 1 Axes>"
      ]
     },
     "metadata": {},
     "output_type": "display_data"
    }
   ],
   "source": [
    "plt.plot(history.history[\"accuracy\"])"
   ]
  },
  {
   "cell_type": "code",
   "execution_count": 17,
   "metadata": {},
   "outputs": [
    {
     "data": {
      "text/plain": [
       "[<matplotlib.lines.Line2D at 0x176aca60c20>]"
      ]
     },
     "execution_count": 17,
     "metadata": {},
     "output_type": "execute_result"
    },
    {
     "data": {
      "image/png": "[encoded data removed]",
      "text/plain": [
       "<Figure size 640x480 with 1 Axes>"
      ]
     },
     "metadata": {},
     "output_type": "display_data"
    }
   ],
   "source": [
    "plt.plot(history.history[\"loss\"])\n"
   ]
  },
  {
   "cell_type": "code",
   "execution_count": 18,
   "metadata": {},
   "outputs": [
    {
     "data": {
      "text/plain": [
       "'\\nThe `to_categorical` function in Keras is used to convert class labels (integers) into a one-hot encoded format. One-hot encoding transforms categorical data into a binary matrix representation, which is beneficial for multi-class classification tasks.\\n\\n### Detailed Explanation\\nSuppose you have labels for three classes in the format `[0, 1, 2]`. If you apply `to_categorical` to these labels, each label will be represented by a binary vector with the length equal to the number of unique classes. For example:\\n\\n```python\\nfrom tensorflow.keras.utils import to_categorical\\n\\nlabels = [0, 1, 2]\\none_hot_labels = to_categorical(labels)\\nprint(one_hot_labels)\\n```\\n\\n**Output**:\\n```plaintext\\n[[1. 0. 0.]\\n [0. 1. 0.]\\n [0. 0. 1.]]\\n```\\n\\nEach label is replaced by a vector with 1 in the position representing the class and 0s elsewhere:\\n- Class 0 becomes `[1, 0, 0]`\\n- Class 1 becomes `[0, 1, 0]`\\n- Class 2 becomes `[0, 0, 1]`\\n\\n### Why Use `to_categorical`?\\n\\n1. **Compatibility with Neural Networks**: Neural networks often expect the output in a binary or one-hot encoded format for multi-class classification tasks. In this format, each output neuron corresponds to a specific class, and the network learns to output probabilities for each class.\\n\\n2. **Categorical Cross-Entropy Loss**: When using the `categorical_crossentropy` loss function, the target labels must be one-hot encoded. This loss function compares each output neuron’s predicted probability with the corresponding element in the one-hot encoded vector.\\n\\n3. **Enhanced Model Performance**: One-hot encoding helps the model to learn relationships more effectively in multi-class classification tasks since each output node now corresponds to only one class.\\n\\n### Key Viva Questions:\\n\\n1. **What is one-hot encoding?**  \\n   - One-hot encoding represents categories as binary vectors where only one element (the one representing the category) is 1, and others are 0.\\n\\n2. **Why use `to_categorical` in Keras?**  \\n   - To convert class labels into a format suitable for multi-class classification, especially when using `categorical_crossentropy` as the loss function.\\n\\n3. **What is the output of `to_categorical` for a label 2 in a three-class problem?**  \\n   - `[0, 0, 1]`\\n'"
      ]
     },
     "execution_count": 18,
     "metadata": {},
     "output_type": "execute_result"
    }
   ],
   "source": [
    "'''\n",
    "The `to_categorical` function in Keras is used to convert class labels (integers) into a one-hot encoded format. One-hot encoding transforms categorical data into a binary matrix representation, which is beneficial for multi-class classification tasks.\n",
    "\n",
    "### Detailed Explanation\n",
    "Suppose you have labels for three classes in the format `[0, 1, 2]`. If you apply `to_categorical` to these labels, each label will be represented by a binary vector with the length equal to the number of unique classes. For example:\n",
    "\n",
    "```python\n",
    "from tensorflow.keras.utils import to_categorical\n",
    "\n",
    "labels = [0, 1, 2]\n",
    "one_hot_labels = to_categorical(labels)\n",
    "print(one_hot_labels)\n",
    "```\n",
    "\n",
    "**Output**:\n",
    "```plaintext\n",
    "[[1. 0. 0.]\n",
    " [0. 1. 0.]\n",
    " [0. 0. 1.]]\n",
    "```\n",
    "\n",
    "Each label is replaced by a vector with 1 in the position representing the class and 0s elsewhere:\n",
    "- Class 0 becomes `[1, 0, 0]`\n",
    "- Class 1 becomes `[0, 1, 0]`\n",
    "- Class 2 becomes `[0, 0, 1]`\n",
    "\n",
    "### Why Use `to_categorical`?\n",
    "\n",
    "1. **Compatibility with Neural Networks**: Neural networks often expect the output in a binary or one-hot encoded format for multi-class classification tasks. In this format, each output neuron corresponds to a specific class, and the network learns to output probabilities for each class.\n",
    "\n",
    "2. **Categorical Cross-Entropy Loss**: When using the `categorical_crossentropy` loss function, the target labels must be one-hot encoded. This loss function compares each output neuron’s predicted probability with the corresponding element in the one-hot encoded vector.\n",
    "\n",
    "3. **Enhanced Model Performance**: One-hot encoding helps the model to learn relationships more effectively in multi-class classification tasks since each output node now corresponds to only one class.\n",
    "\n",
    "### Key Viva Questions:\n",
    "\n",
    "1. **What is one-hot encoding?**  \n",
    "   - One-hot encoding represents categories as binary vectors where only one element (the one representing the category) is 1, and others are 0.\n",
    "\n",
    "2. **Why use `to_categorical` in Keras?**  \n",
    "   - To convert class labels into a format suitable for multi-class classification, especially when using `categorical_crossentropy` as the loss function.\n",
    "\n",
    "3. **What is the output of `to_categorical` for a label 2 in a three-class problem?**  \n",
    "   - `[0, 0, 1]`\n",
    "'''"
   ]
  },
  {
   "cell_type": "code",
   "execution_count": null,
   "metadata": {},
   "outputs": [],
   "source": []
  },
  {
   "cell_type": "code",
   "execution_count": null,
   "metadata": {},
   "outputs": [],
   "source": []
  }
 ],
 "metadata": {
  "kernelspec": {
   "display_name": "Python 3 (ipykernel)",
   "language": "python",
   "name": "python3"
  },
  "language_info": {
   "codemirror_mode": {
    "name": "ipython",
    "version": 3
   },
   "file_extension": ".py",
   "mimetype": "text/x-python",
   "name": "python",
   "nbconvert_exporter": "python",
   "pygments_lexer": "ipython3",
   "version": "3.12.4"
  }
 },
 "nbformat": 4,
 "nbformat_minor": 4
}
